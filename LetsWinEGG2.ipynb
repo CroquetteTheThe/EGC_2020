{
 "cells": [
  {
   "cell_type": "code",
   "execution_count": 1,
   "metadata": {},
   "outputs": [],
   "source": [
    "import nltk\n",
    "import pandas as pd\n",
    "import random\n",
    "import numpy as np\n",
    "import string\n",
    "import math\n",
    "\n",
    "from nltk import ngrams\n",
    "from nltk.corpus import stopwords\n",
    "from nltk.stem.snowball import FrenchStemmer\n",
    "from nltk.tokenize import word_tokenize\n",
    "\n",
    "from numpy import array\n",
    "from collections import Counter\n",
    "from scipy.sparse import csr_matrix\n",
    "\n",
    "from french_lefff_lemmatizer.french_lefff_lemmatizer import FrenchLefffLemmatizer\n",
    "\n",
    "from sklearn.feature_extraction.text import TfidfVectorizer\n",
    "from sklearn.decomposition import TruncatedSVD\n",
    "from sklearn.cluster import KMeans\n",
    "\n",
    "from gensim.test.utils import common_dictionary, common_corpus\n",
    "from gensim.models import LsiModel\n",
    "from gensim import corpora, models, utils\n",
    "from gensim.test.utils import common_corpus, common_dictionary, get_tmpfile\n",
    "from gensim.models import LsiModel\n",
    "from gensim.corpora import Dictionary\n",
    "\n",
    "import re"
   ]
  },
  {
   "cell_type": "code",
   "execution_count": 2,
   "metadata": {},
   "outputs": [],
   "source": [
    "# Use spacy lib\n",
    "# On https://spacy.io/\n",
    "\n",
    "import spacy\n",
    "nlp = spacy.load('fr')"
   ]
  },
  {
   "cell_type": "code",
   "execution_count": 3,
   "metadata": {},
   "outputs": [],
   "source": [
    "##############\n",
    "# Parameters #\n",
    "##############\n",
    "\n",
    "min_gram = 1\n",
    "max_gram = 3\n",
    "\n",
    "# To create ours partitions, we must first know the years which will be the limits\n",
    "limit_years = [2007, 2010, 2014]\n",
    "\n",
    "# Ignore words that appear at a frequency less than tresh_freq in the corpus\n",
    "tresh_freq = 0.8\n",
    "\n",
    "# Number of clusters by partitions\n",
    "nb_clusters = 5\n"
   ]
  },
  {
   "cell_type": "code",
   "execution_count": 4,
   "metadata": {},
   "outputs": [],
   "source": [
    "# Datas preprocessing methods.\n",
    "\n",
    "# Lemmatisation without poncutations\n",
    "\n",
    "stemmer = nltk.stem.snowball.FrenchStemmer()\n",
    "fstw = stopwords.words('french')\n",
    "\n",
    "# French Stop Words, extraits depuis le fichier stopwords-fr.txt + stopwords french de nltk\n",
    "sourceFST = [x.replace('\\n', '') for x in open('stopwords-fr.txt', mode=\"r\", encoding=\"utf-8\").readlines()]+fstw\n",
    "\n",
    "# Based on ration of french and english stopwords\n",
    "def isEnglish(article):\n",
    "    total_fsw = len([x for x in article.split() if x in sourceFST])\n",
    "    total_esw = len([x for x in article.split() if x in stopwords.words('english')])\n",
    "    ratio = 100\n",
    "    if total_fsw != 0:\n",
    "        ratio = total_esw/total_fsw\n",
    "    return ratio > 1 and total_esw > 3\n",
    "\n",
    "def lemmatize(article):\n",
    "    artiregex = re.sub(\" [A-z][A-z] \", \" \", article) # word of length < 2\n",
    "    artiregex = artiregex.lower()\n",
    "    artiregex = re.sub(\"(é|è|ê)\", \"e\", artiregex)\n",
    "    output = []\n",
    "    outPonc = artiregex.translate(artiregex.maketrans(\"\",\"\", string.punctuation))\n",
    "    outLem = nlp(outPonc)\n",
    "    for token in outLem:\n",
    "        if token.lemma_ not in sourceFST and [x for x in token.lemma_ if x not in \"0123456789\"] != []:\n",
    "            output.append(token.lemma_)\n",
    "    res = ' '.join(output)\n",
    "    return res"
   ]
  },
  {
   "cell_type": "code",
   "execution_count": 5,
   "metadata": {},
   "outputs": [],
   "source": [
    "# Data Reading\n",
    "data = pd.read_csv('export_articles_EGC_2004_2018.csv', sep='\\t', header=0)"
   ]
  },
  {
   "cell_type": "code",
   "execution_count": null,
   "metadata": {},
   "outputs": [],
   "source": []
  },
  {
   "cell_type": "code",
   "execution_count": 13,
   "metadata": {},
   "outputs": [],
   "source": [
    "# Let's process our corpus, and determine a limit to split it in partitions\n",
    "\n",
    "# usable[] correspond to our corpus processed\n",
    "# limits[] let us know when to delimit partitions\n",
    "limits = []\n",
    "usable = []\n",
    "\n",
    "prev_year = data['year'][0]\n",
    "numArti = 0\n",
    "for i in range(0, len(data['abstract']), 1):\n",
    "    #if not null, empty, or whatever (so if there is a abstract):\n",
    "    if not isinstance(data['abstract'][i], float) and not isEnglish(data['abstract'][i]):\n",
    "        text = data['abstract'][i]\n",
    "        if not isinstance(data['title'][i], float):\n",
    "            text += \" \"+data['title'][i]\n",
    "\n",
    "        numArti+=1\n",
    "        usable.append(stemmer.stem(lemmatize(text)))\n",
    "        year = data['year'][i]\n",
    "        if year != prev_year:\n",
    "            prev_year = year\n",
    "            if year in limit_years:\n",
    "                limits.append(numArti)\n",
    "limits.append(numArti)\n"
   ]
  },
  {
   "cell_type": "code",
   "execution_count": 7,
   "metadata": {
    "scrolled": true
   },
   "outputs": [
    {
     "name": "stdout",
     "output_type": "stream",
     "text": [
      "nombre d'articles = 991\n",
      "nombre de mots = 133088\n",
      "limits = [223, 468, 694, 991]\n"
     ]
    }
   ],
   "source": [
    "# Display pre-processed datas\n",
    "\n",
    "vectorizer = TfidfVectorizer(stop_words=sourceFST, use_idf=True, ngram_range=(min_gram, max_gram), max_df=tresh_freq)\n",
    "tfidf = vectorizer.fit_transform(usable)\n",
    "\n",
    "print(\"nombre d'articles =\", len(usable))\n",
    "print(\"nombre de mots =\", len(tfidf.toarray()[0]))\n",
    "print(\"limits =\", limits)"
   ]
  },
  {
   "cell_type": "code",
   "execution_count": 41,
   "metadata": {},
   "outputs": [],
   "source": [
    "# Creation of partitions_tfidf[], which give us the TFIDF of each cluster of each partition\n",
    "# partitions_tfidf[num_partition][num_doc][num_word]\n",
    "# Beware, num_doc can't be equals to 1091 (max). You have partitions, so every doc aren't in every partitions\n",
    "# num_word can be found via vectorizer.get_feature_name()\n",
    "partitions_tfidf = []\n",
    "beg = 0\n",
    "for l in limits:\n",
    "    last = l\n",
    "    partitions_tfidf.append([list(x) for x in list(tfidf.toarray())[beg:last]])\n",
    "    beg = l"
   ]
  },
  {
   "cell_type": "code",
   "execution_count": 58,
   "metadata": {},
   "outputs": [
    {
     "data": {
      "text/plain": [
       "991"
      ]
     },
     "execution_count": 58,
     "metadata": {},
     "output_type": "execute_result"
    }
   ],
   "source": [
    "size = len(partitions_tfidf[0]) + len(partitions_tfidf[1]) + len(partitions_tfidf[2]) + len(partitions_tfidf[3])\n",
    "size"
   ]
  },
  {
   "cell_type": "code",
   "execution_count": 75,
   "metadata": {},
   "outputs": [
    {
     "data": {
      "text/plain": [
       "223"
      ]
     },
     "execution_count": 75,
     "metadata": {},
     "output_type": "execute_result"
    }
   ],
   "source": [
    "len(partitions_tfidf[0])"
   ]
  },
  {
   "cell_type": "code",
   "execution_count": 14,
   "metadata": {},
   "outputs": [],
   "source": [
    "# Applying KMeans on tfidf\n",
    "# the labels_ give assignment of doc to the cluster number \n",
    "km = KMeans(n_clusters=nb_clusters)\n",
    "km.fit(tfidf)\n",
    "cluster = km.labels_\n",
    "\n",
    "cluster_partition = [cluster[:limits[0]],cluster[limits[0]:limits[1]],cluster[limits[1]:limits[2]],cluster[limits[2]:limits[3]]]"
   ]
  },
  {
   "cell_type": "code",
   "execution_count": 71,
   "metadata": {},
   "outputs": [],
   "source": [
    "part_km = []\n",
    "for i in range(0, len(limits)):\n",
    "    dash = km.fit(partitions_tfidf[i])\n",
    "    part_km.append(dash)"
   ]
  },
  {
   "cell_type": "code",
   "execution_count": 76,
   "metadata": {},
   "outputs": [
    {
     "data": {
      "text/plain": [
       "3"
      ]
     },
     "execution_count": 76,
     "metadata": {},
     "output_type": "execute_result"
    }
   ],
   "source": [
    "(part_km[1]).labels_\n",
    "\n",
    "all_labels = []\n",
    "for i in range(0,len(limits)):\n",
    "    for j in range(0, len((part_km[i]).labels_)):\n",
    "        "
   ]
  },
  {
   "cell_type": "code",
   "execution_count": 66,
   "metadata": {},
   "outputs": [],
   "source": [
    "# doc_clustering is a dictionnary \n",
    "# it looks like -> { doc_number : [partition_number, cluster_number] }\n",
    "# This is used to reassign doc number to their respective partition and and cluster\n",
    "doc_clustering = {}\n",
    "for i in range(0,len(usable)):\n",
    "    if i < limits[0]:\n",
    "        doc_clustering[i] = [0, cluster[i]]\n",
    "    elif i >= limits[0] and i < limits[1]:\n",
    "        doc_clustering[i] = [1, cluster[i]]\n",
    "    elif i >= limits[1] and i < limits[2]:\n",
    "        doc_clustering[i] = [2, cluster[i]]\n",
    "    else:\n",
    "        doc_clustering[i] = [3, cluster[i]]"
   ]
  },
  {
   "cell_type": "code",
   "execution_count": 23,
   "metadata": {},
   "outputs": [],
   "source": [
    "# Allows to get list of documents number\n",
    "# return [dou numbers]\n",
    "# params : partition_number , cluster number\n",
    "partitions = []\n",
    "def get_doc(part, clust):\n",
    "    docs = []\n",
    "    for i in range(0,len(doc_clustering)):\n",
    "        if doc_clustering[i][0] == part and doc_clustering[i][1] == clust:\n",
    "            docs.append(i)\n",
    "    return docs"
   ]
  },
  {
   "cell_type": "code",
   "execution_count": 115,
   "metadata": {},
   "outputs": [],
   "source": [
    "# Get the partitions variable\n",
    "# Here partitions[part][cluster] = list of docs numbe\n",
    "partitions = []\n",
    "for i in range(0, len(limits)):\n",
    "    clusters = []\n",
    "    for j in range(0, nb_clusters):\n",
    "        clusters.append(get_doc(i,j))\n",
    "    partitions.append(clusters)"
   ]
  },
  {
   "cell_type": "code",
   "execution_count": 124,
   "metadata": {},
   "outputs": [
    {
     "data": {
      "text/plain": [
       "[700,\n",
       " 702,\n",
       " 706,\n",
       " 707,\n",
       " 712,\n",
       " 713,\n",
       " 715,\n",
       " 717,\n",
       " 734,\n",
       " 736,\n",
       " 740,\n",
       " 741,\n",
       " 744,\n",
       " 747,\n",
       " 762,\n",
       " 764,\n",
       " 768,\n",
       " 769,\n",
       " 781,\n",
       " 788,\n",
       " 791,\n",
       " 792,\n",
       " 795,\n",
       " 797,\n",
       " 806,\n",
       " 813,\n",
       " 816,\n",
       " 822,\n",
       " 824,\n",
       " 826,\n",
       " 827,\n",
       " 828,\n",
       " 831,\n",
       " 839,\n",
       " 845,\n",
       " 853,\n",
       " 855,\n",
       " 859,\n",
       " 861,\n",
       " 866,\n",
       " 871,\n",
       " 874,\n",
       " 878,\n",
       " 887,\n",
       " 890,\n",
       " 900,\n",
       " 901,\n",
       " 904,\n",
       " 910,\n",
       " 915,\n",
       " 916,\n",
       " 917,\n",
       " 921,\n",
       " 924,\n",
       " 926,\n",
       " 929,\n",
       " 930,\n",
       " 934,\n",
       " 935,\n",
       " 939,\n",
       " 946,\n",
       " 966,\n",
       " 967,\n",
       " 978,\n",
       " 983,\n",
       " 984,\n",
       " 990]"
      ]
     },
     "execution_count": 124,
     "metadata": {},
     "output_type": "execute_result"
    }
   ],
   "source": []
  },
  {
   "cell_type": "code",
   "execution_count": 24,
   "metadata": {},
   "outputs": [
    {
     "name": "stdout",
     "output_type": "stream",
     "text": [
      "[1, 3]\n",
      "[0, 3]\n",
      "\n",
      "Counter({4: 55, 0: 47, 2: 43, 1: 39, 3: 39})\n",
      "Counter({0: 62, 3: 54, 2: 46, 1: 43, 4: 40})\n",
      "Counter({3: 86, 0: 40, 1: 38, 2: 33, 4: 29})\n",
      "Counter({3: 96, 0: 67, 2: 52, 1: 42, 4: 40})\n"
     ]
    }
   ],
   "source": [
    "# example of output for doc_clustering\n",
    "# doc 465 is in cluster 1 of the partition 1\n",
    "# doc 154 is in cluster 2 of the partition 0\n",
    "\n",
    "print(doc_clustering[465])\n",
    "print(doc_clustering[154])\n",
    "print()\n",
    "\n",
    "# Here, just count docs number by cluster.\n",
    "print(Counter(cluster_partition[0]))\n",
    "print(Counter(cluster_partition[1]))\n",
    "print(Counter(cluster_partition[2]))\n",
    "print(Counter(cluster_partition[3]))"
   ]
  },
  {
   "cell_type": "markdown",
   "metadata": {},
   "source": [
    "###### A quoi sert le reste en dessous là ? "
   ]
  },
  {
   "cell_type": "code",
   "execution_count": null,
   "metadata": {},
   "outputs": [],
   "source": [
    "# num_partition = 0\n",
    "# for partition in partitions_tfidf:\n",
    "#     if (num_partition > 2):\n",
    "#         break\n",
    "#     print(\"Partition numéro:\",num_partition)\n",
    "#     num_partition+=1\n",
    "#     i=0\n",
    "#     for cluster_tfidf in partition:\n",
    "#         if (i<3):\n",
    "#             print(\"cluster number \", i)\n",
    "#             i+=1\n",
    "#             print(cluster_tfidf)\n"
   ]
  },
  {
   "cell_type": "code",
   "execution_count": null,
   "metadata": {},
   "outputs": [],
   "source": [
    "# # Let's create ours partitions\n",
    "# partitions = []\n",
    "\n",
    "# for part in partitions_tfidf:\n",
    "#     # Let's create ours clusters\n",
    "#     clusters = []\n",
    "#     kmeans = KMeans(n_clusters=nb_clusters, random_state=0).fit(part)\n",
    "#     partitions.append(clusters)\n",
    "    \n",
    "# # TODO: it would be nice to know how many articles are in no cluster anymore"
   ]
  },
  {
   "cell_type": "code",
   "execution_count": null,
   "metadata": {},
   "outputs": [],
   "source": [
    "# # Display clusters 3 of partition 0 \n",
    "# len(partitions[0])"
   ]
  },
  {
   "cell_type": "code",
   "execution_count": null,
   "metadata": {},
   "outputs": [],
   "source": [
    "# nb_labels_by_cluster = 5\n",
    "\n",
    "# # Let's labelize our clusters\n",
    "# # For this, we will use the tfidf matrix\n",
    "\n",
    "# vectorizer = TfidfVectorizer(stop_words=sourceFST, use_idf=True, ngram_range=(min_gram, max_gram))\n",
    "# tfidf = vectorizer.fit_transform(usable)\n",
    "\n",
    "# # We can access the value in the tfidf using:\n",
    "# #tfidf.toarray().item(num_doc, num_word)\n",
    "# # To know the number of the word searched, we will use:\n",
    "# #vectorizer.vocabulary_[word]\n",
    "\n",
    "# # take less than 8h to compute x)\n",
    "# labels = []\n",
    "# for clusters in partitions:\n",
    "#     l = []\n",
    "#     for clus in clusters:\n",
    "#         first_arti = True\n",
    "#         for article in clus:\n",
    "#             link = abs(clus[article])\n",
    "#             if first_arti:\n",
    "#                 coef_list = (tfidf.toarray()[article] * link)\n",
    "#                 first = False\n",
    "#             else:\n",
    "#                 # the more an article have a high coeficient, the more he is implied in the labeling step\n",
    "#                 coef_list += (tfidf.toarray()[article] * link)\n",
    "#         # Now we have coef_list filled by every coeficient in the multiple tfidf\n",
    "#         # Let's find the best ones, to finally get the labels\n",
    "#         res = dict(zip(vectorizer.get_feature_names(), coef_list))\n",
    "\n",
    "#         l.append(Counter(res).most_common(nb_labels_by_cluster))\n",
    "#     labels.append(l)\n",
    "\n",
    "# # TODO: on observe beaucoup de labels identiques entre deux clusters\n",
    "# # Je pense que c'est parce que l'on a trop de clusters, mais j'aimerais en être sûr"
   ]
  },
  {
   "cell_type": "code",
   "execution_count": null,
   "metadata": {},
   "outputs": [],
   "source": [
    "# # Display labels\n",
    "# # labels is composed by an array for each partition\n",
    "# labels"
   ]
  }
 ],
 "metadata": {
  "kernelspec": {
   "display_name": "Python 3",
   "language": "python",
   "name": "python3"
  },
  "language_info": {
   "codemirror_mode": {
    "name": "ipython",
    "version": 3
   },
   "file_extension": ".py",
   "mimetype": "text/x-python",
   "name": "python",
   "nbconvert_exporter": "python",
   "pygments_lexer": "ipython3",
   "version": "3.6.6"
  }
 },
 "nbformat": 4,
 "nbformat_minor": 2
}
